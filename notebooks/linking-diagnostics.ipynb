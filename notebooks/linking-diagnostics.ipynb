{
 "cells": [
  {
   "cell_type": "markdown",
   "metadata": {},
   "source": [
    "# Obtaining Diagnostic Information from Linking\n",
    "\n",
    "Beginning with version 0.3, `link_df()` and `link_df_iter()` can include diagnostic data in their output, to give you clues about what the linking algorithm did while linking each particle. This information may help to diagnose errors or bad results from linking, or to verify that the linking algorithm is working properly.\n",
    "\n",
    "## How to use it\n",
    "\n",
    "Pass the optional keyword argument `diagnostics=True` to `link_df()` or `link_df_iter()`. The linker will add the \"particle\" column as usual, along with extra columns whose names begin with \"`diag_`\". Not all types of diagnostic data may pertain to every particle, so that many entries in these diagnostic columns will have the placeholder value of `NaN` (not a number).\n",
    "\n",
    "We'll discuss the individual columns and their meanings below, by way of an example: the `bulk_water` movie that was tracked in the walkthrough tutorial.\n",
    "\n",
    "### Details\n",
    "\n",
    "1. Diagnostics typically slow down linking by a few percent and consume significant additional memory, so they are turned off by default.\n",
    "2. If you already ran linking with diagnostics turned on, but no longer want the extra columns cluttering up your results, you can use the `strip_diagnostics()` function to automatically remove all columns whose names start with \"`diag_`\".\n",
    "3. The set of diagnostic of columns, and the order in which they appear, is not fixed. Each column is added only if that diagnostic datum was recorded. For example, below we will encounter the `diag_remembered` column that gives information about the `memory` feature. If you did not specify the `memory` option for linking, this column will never be present in your results.\n",
    "3. For performance reasons, `link_df()` ordinarily does *not* make a copy of its input DataFrame, instead modifying it in-place. For practical reasons, however, with diagnostics enabled `link_df()` must work on a copy. Depending on how it was written, your program may therefore behave differently when diagnostics are turned on! If you suspect a problem, you can instruct `link_df()` to behave more consistently by supplying `copy_features=True`."
   ]
  },
  {
   "cell_type": "markdown",
   "metadata": {},
   "source": [
    "## Example\n",
    "\n",
    "We'll track the `bulk_water` movie much as in the walkthrough, but with `diagnostics=True`. We'll then examine the data we get back. First, we set up our environment:"
   ]
  },
  {
   "cell_type": "code",
   "execution_count": 1,
   "metadata": {},
   "outputs": [],
   "source": [
    "# change the following to %matplotlib notebook for interactive plotting\n",
    "%matplotlib inline\n",
    "\n",
    "import numpy as np\n",
    "import pandas as pd\n",
    "import matplotlib.pyplot as plt\n",
    "from pandas import DataFrame, Series\n",
    "\n",
    "import pims\n",
    "import trackpy as tp"
   ]
  },
  {
   "cell_type": "markdown",
   "metadata": {},
   "source": [
    "4 frames should be enough for this demonstration."
   ]
  },
  {
   "cell_type": "code",
   "execution_count": 3,
   "metadata": {},
   "outputs": [
    {
     "name": "stdout",
     "output_type": "stream",
     "text": [
      "Frame 3: 439 features\n"
     ]
    }
   ],
   "source": [
    "frames = pims.ImageSequence('../sample_data/bulk_water/*.png', as_grey=True)\n",
    "\n",
    "f = tp.batch(frames[:4], 11, minmass=0.2, invert=True, meta=False)"
   ]
  },
  {
   "cell_type": "markdown",
   "metadata": {},
   "source": [
    "We'll link with a larger `search_radius` than in the tutorial, because we want to generate a lot of subnetworks (more on that below)."
   ]
  },
  {
   "cell_type": "code",
   "execution_count": 4,
   "metadata": {},
   "outputs": [
    {
     "name": "stdout",
     "output_type": "stream",
     "text": [
      "Frame 3: 439 trajectories present\n"
     ]
    }
   ],
   "source": [
    "t = tp.link_df(f, 13, memory=3, diagnostics=True)"
   ]
  },
  {
   "cell_type": "markdown",
   "metadata": {},
   "source": [
    "When we look at the columns in the resulting tracks DataFrame, we see some new names:"
   ]
  },
  {
   "cell_type": "code",
   "execution_count": 5,
   "metadata": {},
   "outputs": [
    {
     "data": {
      "text/plain": [
       "['x',\n",
       " 'y',\n",
       " 'mass',\n",
       " 'size',\n",
       " 'ecc',\n",
       " 'signal',\n",
       " 'raw_mass',\n",
       " 'ep',\n",
       " 'frame',\n",
       " 'particle',\n",
       " 'diag_search_range',\n",
       " 'diag_subnet',\n",
       " 'diag_subnet_iterations',\n",
       " 'diag_subnet_size',\n",
       " 'diag_remembered']"
      ]
     },
     "execution_count": 5,
     "metadata": {},
     "output_type": "execute_result"
    }
   ],
   "source": [
    "list(t.columns)"
   ]
  },
  {
   "cell_type": "markdown",
   "metadata": {},
   "source": [
    "Let's look at the first 5 rows in the results. Because there are so many columns, we'll transpose the data so they fit on the page."
   ]
  },
  {
   "cell_type": "code",
   "execution_count": 6,
   "metadata": {},
   "outputs": [
    {
     "data": {
      "text/html": [
       "<div>\n",
       "<style>\n",
       "    .dataframe thead tr:only-child th {\n",
       "        text-align: right;\n",
       "    }\n",
       "\n",
       "    .dataframe thead th {\n",
       "        text-align: left;\n",
       "    }\n",
       "\n",
       "    .dataframe tbody tr th {\n",
       "        vertical-align: top;\n",
       "    }\n",
       "</style>\n",
       "<table border=\"1\" class=\"dataframe\">\n",
       "  <thead>\n",
       "    <tr style=\"text-align: right;\">\n",
       "      <th></th>\n",
       "      <th>0</th>\n",
       "      <th>1</th>\n",
       "      <th>2</th>\n",
       "      <th>3</th>\n",
       "      <th>4</th>\n",
       "    </tr>\n",
       "  </thead>\n",
       "  <tbody>\n",
       "    <tr>\n",
       "      <th>x</th>\n",
       "      <td>103.465</td>\n",
       "      <td>103.481</td>\n",
       "      <td>295.126</td>\n",
       "      <td>295.317</td>\n",
       "      <td>296.299</td>\n",
       "    </tr>\n",
       "    <tr>\n",
       "      <th>y</th>\n",
       "      <td>4.90133</td>\n",
       "      <td>4.88974</td>\n",
       "      <td>5.59011</td>\n",
       "      <td>5.36683</td>\n",
       "      <td>5.64611</td>\n",
       "    </tr>\n",
       "    <tr>\n",
       "      <th>mass</th>\n",
       "      <td>0.919563</td>\n",
       "      <td>0.904252</td>\n",
       "      <td>1.21109</td>\n",
       "      <td>1.3073</td>\n",
       "      <td>1.34173</td>\n",
       "    </tr>\n",
       "    <tr>\n",
       "      <th>size</th>\n",
       "      <td>2.39203</td>\n",
       "      <td>2.36742</td>\n",
       "      <td>2.45744</td>\n",
       "      <td>2.41559</td>\n",
       "      <td>2.52495</td>\n",
       "    </tr>\n",
       "    <tr>\n",
       "      <th>ecc</th>\n",
       "      <td>0.0773179</td>\n",
       "      <td>0.0762044</td>\n",
       "      <td>0.198934</td>\n",
       "      <td>0.218546</td>\n",
       "      <td>0.229819</td>\n",
       "    </tr>\n",
       "    <tr>\n",
       "      <th>signal</th>\n",
       "      <td>0.0438773</td>\n",
       "      <td>0.0436669</td>\n",
       "      <td>0.0654441</td>\n",
       "      <td>0.068785</td>\n",
       "      <td>0.0657977</td>\n",
       "    </tr>\n",
       "    <tr>\n",
       "      <th>raw_mass</th>\n",
       "      <td>42.0946</td>\n",
       "      <td>42.0946</td>\n",
       "      <td>42.0045</td>\n",
       "      <td>42.1176</td>\n",
       "      <td>42.01</td>\n",
       "    </tr>\n",
       "    <tr>\n",
       "      <th>ep</th>\n",
       "      <td>0.0851361</td>\n",
       "      <td>0.083612</td>\n",
       "      <td>0.0886376</td>\n",
       "      <td>0.0827959</td>\n",
       "      <td>0.086509</td>\n",
       "    </tr>\n",
       "    <tr>\n",
       "      <th>frame</th>\n",
       "      <td>0</td>\n",
       "      <td>1</td>\n",
       "      <td>0</td>\n",
       "      <td>1</td>\n",
       "      <td>2</td>\n",
       "    </tr>\n",
       "    <tr>\n",
       "      <th>particle</th>\n",
       "      <td>0</td>\n",
       "      <td>0</td>\n",
       "      <td>1</td>\n",
       "      <td>1</td>\n",
       "      <td>1</td>\n",
       "    </tr>\n",
       "    <tr>\n",
       "      <th>diag_search_range</th>\n",
       "      <td>NaN</td>\n",
       "      <td>13</td>\n",
       "      <td>NaN</td>\n",
       "      <td>13</td>\n",
       "      <td>13</td>\n",
       "    </tr>\n",
       "    <tr>\n",
       "      <th>diag_subnet</th>\n",
       "      <td>NaN</td>\n",
       "      <td>NaN</td>\n",
       "      <td>NaN</td>\n",
       "      <td>NaN</td>\n",
       "      <td>NaN</td>\n",
       "    </tr>\n",
       "    <tr>\n",
       "      <th>diag_subnet_iterations</th>\n",
       "      <td>NaN</td>\n",
       "      <td>NaN</td>\n",
       "      <td>NaN</td>\n",
       "      <td>NaN</td>\n",
       "      <td>NaN</td>\n",
       "    </tr>\n",
       "    <tr>\n",
       "      <th>diag_subnet_size</th>\n",
       "      <td>NaN</td>\n",
       "      <td>NaN</td>\n",
       "      <td>NaN</td>\n",
       "      <td>NaN</td>\n",
       "      <td>NaN</td>\n",
       "    </tr>\n",
       "    <tr>\n",
       "      <th>diag_remembered</th>\n",
       "      <td>NaN</td>\n",
       "      <td>NaN</td>\n",
       "      <td>NaN</td>\n",
       "      <td>NaN</td>\n",
       "      <td>NaN</td>\n",
       "    </tr>\n",
       "  </tbody>\n",
       "</table>\n",
       "</div>"
      ],
      "text/plain": [
       "                                0          1          2          3          4\n",
       "x                         103.465    103.481    295.126    295.317    296.299\n",
       "y                         4.90133    4.88974    5.59011    5.36683    5.64611\n",
       "mass                     0.919563   0.904252    1.21109     1.3073    1.34173\n",
       "size                      2.39203    2.36742    2.45744    2.41559    2.52495\n",
       "ecc                     0.0773179  0.0762044   0.198934   0.218546   0.229819\n",
       "signal                  0.0438773  0.0436669  0.0654441   0.068785  0.0657977\n",
       "raw_mass                  42.0946    42.0946    42.0045    42.1176      42.01\n",
       "ep                      0.0851361   0.083612  0.0886376  0.0827959   0.086509\n",
       "frame                           0          1          0          1          2\n",
       "particle                        0          0          1          1          1\n",
       "diag_search_range             NaN         13        NaN         13         13\n",
       "diag_subnet                   NaN        NaN        NaN        NaN        NaN\n",
       "diag_subnet_iterations        NaN        NaN        NaN        NaN        NaN\n",
       "diag_subnet_size              NaN        NaN        NaN        NaN        NaN\n",
       "diag_remembered               NaN        NaN        NaN        NaN        NaN"
      ]
     },
     "execution_count": 6,
     "metadata": {},
     "output_type": "execute_result"
    }
   ],
   "source": [
    "t.head().T"
   ]
  },
  {
   "cell_type": "markdown",
   "metadata": {},
   "source": [
    "### `diag_search_range`\n",
    "\n",
    "`trackpy` didn't record every kind of diagnostic data for every feature. We do notice, however, that there is a `diag_search_range` for everything past the first frame. This column is the value of `search_range` that was used to find a particle and link it. Since the particles in the first frame did not need to be found, `diag_search_range` is null there. But for the subsequent frames, it is the same as the `search_range` we told `link_df()` to use, because those particles were successfully linked.\n",
    "\n",
    "`diag_search_range` would be a nearly pointless column except that it reveals the workings of adaptive search when that feature is turned on. See the tutorial on adaptive search for a more meaningful look at `diag_search_range`."
   ]
  },
  {
   "cell_type": "markdown",
   "metadata": {},
   "source": [
    "### `diag_remembered`\n",
    "\n",
    "When a particle seems to disappear, `memory` allows its \"ghost\" to stick around for a few more frames in case that particle reappears. In that event, the `diag_remembered` column records the number of frames for which the particle was missing. Let's look in the 4th frame to see whether this actually happened. Again, we show just the first 5 entires and transpose to fit on the page:"
   ]
  },
  {
   "cell_type": "code",
   "execution_count": 7,
   "metadata": {},
   "outputs": [
    {
     "name": "stdout",
     "output_type": "stream",
     "text": [
      "6 remembered particles in frame number 3.\n"
     ]
    },
    {
     "data": {
      "text/html": [
       "<div>\n",
       "<style>\n",
       "    .dataframe thead tr:only-child th {\n",
       "        text-align: right;\n",
       "    }\n",
       "\n",
       "    .dataframe thead th {\n",
       "        text-align: left;\n",
       "    }\n",
       "\n",
       "    .dataframe tbody tr th {\n",
       "        vertical-align: top;\n",
       "    }\n",
       "</style>\n",
       "<table border=\"1\" class=\"dataframe\">\n",
       "  <thead>\n",
       "    <tr style=\"text-align: right;\">\n",
       "      <th></th>\n",
       "      <th>173</th>\n",
       "      <th>559</th>\n",
       "      <th>754</th>\n",
       "      <th>1678</th>\n",
       "      <th>1697</th>\n",
       "    </tr>\n",
       "  </thead>\n",
       "  <tbody>\n",
       "    <tr>\n",
       "      <th>x</th>\n",
       "      <td>191.732</td>\n",
       "      <td>616.715</td>\n",
       "      <td>284.11</td>\n",
       "      <td>585.875</td>\n",
       "      <td>563.63</td>\n",
       "    </tr>\n",
       "    <tr>\n",
       "      <th>y</th>\n",
       "      <td>47.9793</td>\n",
       "      <td>148.293</td>\n",
       "      <td>196.56</td>\n",
       "      <td>162.804</td>\n",
       "      <td>384.48</td>\n",
       "    </tr>\n",
       "    <tr>\n",
       "      <th>mass</th>\n",
       "      <td>1.06302</td>\n",
       "      <td>0.718173</td>\n",
       "      <td>0.506253</td>\n",
       "      <td>0.928194</td>\n",
       "      <td>0.825652</td>\n",
       "    </tr>\n",
       "    <tr>\n",
       "      <th>size</th>\n",
       "      <td>2.06582</td>\n",
       "      <td>2.54832</td>\n",
       "      <td>2.44121</td>\n",
       "      <td>3.19113</td>\n",
       "      <td>2.70753</td>\n",
       "    </tr>\n",
       "    <tr>\n",
       "      <th>ecc</th>\n",
       "      <td>0.0688851</td>\n",
       "      <td>0.0658422</td>\n",
       "      <td>0.0641807</td>\n",
       "      <td>0.0746349</td>\n",
       "      <td>0.289991</td>\n",
       "    </tr>\n",
       "    <tr>\n",
       "      <th>signal</th>\n",
       "      <td>0.0622847</td>\n",
       "      <td>0.0360796</td>\n",
       "      <td>0.0216477</td>\n",
       "      <td>0.019369</td>\n",
       "      <td>0.0311424</td>\n",
       "    </tr>\n",
       "    <tr>\n",
       "      <th>raw_mass</th>\n",
       "      <td>41.8769</td>\n",
       "      <td>41.1833</td>\n",
       "      <td>40.0793</td>\n",
       "      <td>41.0322</td>\n",
       "      <td>41.6577</td>\n",
       "    </tr>\n",
       "    <tr>\n",
       "      <th>ep</th>\n",
       "      <td>0.0917279</td>\n",
       "      <td>0.136669</td>\n",
       "      <td>0.620724</td>\n",
       "      <td>0.153004</td>\n",
       "      <td>0.102369</td>\n",
       "    </tr>\n",
       "    <tr>\n",
       "      <th>frame</th>\n",
       "      <td>3</td>\n",
       "      <td>3</td>\n",
       "      <td>3</td>\n",
       "      <td>3</td>\n",
       "      <td>3</td>\n",
       "    </tr>\n",
       "    <tr>\n",
       "      <th>particle</th>\n",
       "      <td>44</td>\n",
       "      <td>145</td>\n",
       "      <td>195</td>\n",
       "      <td>434</td>\n",
       "      <td>441</td>\n",
       "    </tr>\n",
       "    <tr>\n",
       "      <th>diag_search_range</th>\n",
       "      <td>13</td>\n",
       "      <td>13</td>\n",
       "      <td>13</td>\n",
       "      <td>13</td>\n",
       "      <td>13</td>\n",
       "    </tr>\n",
       "    <tr>\n",
       "      <th>diag_subnet</th>\n",
       "      <td>102</td>\n",
       "      <td>76</td>\n",
       "      <td>73</td>\n",
       "      <td>NaN</td>\n",
       "      <td>112</td>\n",
       "    </tr>\n",
       "    <tr>\n",
       "      <th>diag_subnet_iterations</th>\n",
       "      <td>3</td>\n",
       "      <td>14</td>\n",
       "      <td>3</td>\n",
       "      <td>NaN</td>\n",
       "      <td>5</td>\n",
       "    </tr>\n",
       "    <tr>\n",
       "      <th>diag_subnet_size</th>\n",
       "      <td>2</td>\n",
       "      <td>3</td>\n",
       "      <td>2</td>\n",
       "      <td>NaN</td>\n",
       "      <td>3</td>\n",
       "    </tr>\n",
       "    <tr>\n",
       "      <th>diag_remembered</th>\n",
       "      <td>1</td>\n",
       "      <td>2</td>\n",
       "      <td>1</td>\n",
       "      <td>1</td>\n",
       "      <td>1</td>\n",
       "    </tr>\n",
       "  </tbody>\n",
       "</table>\n",
       "</div>"
      ],
      "text/plain": [
       "                             173        559        754        1678       1697\n",
       "x                         191.732    616.715     284.11    585.875     563.63\n",
       "y                         47.9793    148.293     196.56    162.804     384.48\n",
       "mass                      1.06302   0.718173   0.506253   0.928194   0.825652\n",
       "size                      2.06582    2.54832    2.44121    3.19113    2.70753\n",
       "ecc                     0.0688851  0.0658422  0.0641807  0.0746349   0.289991\n",
       "signal                  0.0622847  0.0360796  0.0216477   0.019369  0.0311424\n",
       "raw_mass                  41.8769    41.1833    40.0793    41.0322    41.6577\n",
       "ep                      0.0917279   0.136669   0.620724   0.153004   0.102369\n",
       "frame                           3          3          3          3          3\n",
       "particle                       44        145        195        434        441\n",
       "diag_search_range              13         13         13         13         13\n",
       "diag_subnet                   102         76         73        NaN        112\n",
       "diag_subnet_iterations          3         14          3        NaN          5\n",
       "diag_subnet_size                2          3          2        NaN          3\n",
       "diag_remembered                 1          2          1          1          1"
      ]
     },
     "execution_count": 7,
     "metadata": {},
     "output_type": "execute_result"
    }
   ],
   "source": [
    "remembered_frame3 = t[(t.frame == 3) & (t.diag_remembered > 0)]\n",
    "\n",
    "print(len(remembered_frame3), 'remembered particles in frame number 3.')\n",
    "remembered_frame3.head().T"
   ]
  },
  {
   "cell_type": "markdown",
   "metadata": {},
   "source": [
    "One of these particles has a `diag_remembered` value of 2, which means that it was present in the first frame, went missing for 2 frames, and then seemingly reappeared in the fourth frame.\n",
    "\n",
    "If you are not sure whether memory (or a specific value of the `memory` option) is appropriate for your movie, `diag_remembered` shows you which trajectories and frames to spot-check."
   ]
  },
  {
   "cell_type": "markdown",
   "metadata": {},
   "source": [
    "### `diag_subnet`\n",
    "\n",
    "As you may have also learned in other `trackpy` tutorials (including the one devoted to the topic), how easily subnetworks arise, and how they are resolved, can be crucial to the feasibility and correctness of linking. `trackpy` records diagnostic data whenever it encounters a subnetwork. (If there were no subnetworks at all, the columns discussed here will not be present.) As with memory, these data can help you focus on potential trouble spots.\n",
    "\n",
    "In our example data, we can see what subnetworks were encountered when linking frames 0 and 1:"
   ]
  },
  {
   "cell_type": "code",
   "execution_count": 8,
   "metadata": {},
   "outputs": [
    {
     "name": "stdout",
     "output_type": "stream",
     "text": [
      "60 particles involved in subnets between frames 0 and 1.\n"
     ]
    },
    {
     "data": {
      "text/html": [
       "<div>\n",
       "<style>\n",
       "    .dataframe thead tr:only-child th {\n",
       "        text-align: right;\n",
       "    }\n",
       "\n",
       "    .dataframe thead th {\n",
       "        text-align: left;\n",
       "    }\n",
       "\n",
       "    .dataframe tbody tr th {\n",
       "        vertical-align: top;\n",
       "    }\n",
       "</style>\n",
       "<table border=\"1\" class=\"dataframe\">\n",
       "  <thead>\n",
       "    <tr style=\"text-align: right;\">\n",
       "      <th></th>\n",
       "      <th>11</th>\n",
       "      <th>30</th>\n",
       "      <th>38</th>\n",
       "      <th>153</th>\n",
       "      <th>192</th>\n",
       "    </tr>\n",
       "  </thead>\n",
       "  <tbody>\n",
       "    <tr>\n",
       "      <th>x</th>\n",
       "      <td>36.0844</td>\n",
       "      <td>552.638</td>\n",
       "      <td>23.9474</td>\n",
       "      <td>343.175</td>\n",
       "      <td>20.6357</td>\n",
       "    </tr>\n",
       "    <tr>\n",
       "      <th>y</th>\n",
       "      <td>8.16158</td>\n",
       "      <td>11.4717</td>\n",
       "      <td>12.6843</td>\n",
       "      <td>45.1955</td>\n",
       "      <td>54.784</td>\n",
       "    </tr>\n",
       "    <tr>\n",
       "      <th>mass</th>\n",
       "      <td>1.53298</td>\n",
       "      <td>1.11177</td>\n",
       "      <td>0.903479</td>\n",
       "      <td>0.67587</td>\n",
       "      <td>1.71731</td>\n",
       "    </tr>\n",
       "    <tr>\n",
       "      <th>size</th>\n",
       "      <td>2.82182</td>\n",
       "      <td>2.1479</td>\n",
       "      <td>2.79626</td>\n",
       "      <td>2.7347</td>\n",
       "      <td>3.03672</td>\n",
       "    </tr>\n",
       "    <tr>\n",
       "      <th>ecc</th>\n",
       "      <td>0.137294</td>\n",
       "      <td>0.0624272</td>\n",
       "      <td>0.109013</td>\n",
       "      <td>0.141833</td>\n",
       "      <td>0.186366</td>\n",
       "    </tr>\n",
       "    <tr>\n",
       "      <th>signal</th>\n",
       "      <td>0.0479176</td>\n",
       "      <td>0.0691714</td>\n",
       "      <td>0.0320739</td>\n",
       "      <td>0.0274367</td>\n",
       "      <td>0.0425076</td>\n",
       "    </tr>\n",
       "    <tr>\n",
       "      <th>raw_mass</th>\n",
       "      <td>43.9172</td>\n",
       "      <td>41.459</td>\n",
       "      <td>43.1537</td>\n",
       "      <td>40.9325</td>\n",
       "      <td>43.7764</td>\n",
       "    </tr>\n",
       "    <tr>\n",
       "      <th>ep</th>\n",
       "      <td>0.0469476</td>\n",
       "      <td>0.114912</td>\n",
       "      <td>0.0575133</td>\n",
       "      <td>0.166546</td>\n",
       "      <td>0.0485945</td>\n",
       "    </tr>\n",
       "    <tr>\n",
       "      <th>frame</th>\n",
       "      <td>1</td>\n",
       "      <td>1</td>\n",
       "      <td>1</td>\n",
       "      <td>1</td>\n",
       "      <td>1</td>\n",
       "    </tr>\n",
       "    <tr>\n",
       "      <th>particle</th>\n",
       "      <td>3</td>\n",
       "      <td>8</td>\n",
       "      <td>10</td>\n",
       "      <td>39</td>\n",
       "      <td>50</td>\n",
       "    </tr>\n",
       "    <tr>\n",
       "      <th>diag_search_range</th>\n",
       "      <td>13</td>\n",
       "      <td>13</td>\n",
       "      <td>13</td>\n",
       "      <td>13</td>\n",
       "      <td>13</td>\n",
       "    </tr>\n",
       "    <tr>\n",
       "      <th>diag_subnet</th>\n",
       "      <td>25</td>\n",
       "      <td>24</td>\n",
       "      <td>25</td>\n",
       "      <td>22</td>\n",
       "      <td>23</td>\n",
       "    </tr>\n",
       "    <tr>\n",
       "      <th>diag_subnet_iterations</th>\n",
       "      <td>3</td>\n",
       "      <td>1</td>\n",
       "      <td>3</td>\n",
       "      <td>15</td>\n",
       "      <td>1</td>\n",
       "    </tr>\n",
       "    <tr>\n",
       "      <th>diag_subnet_size</th>\n",
       "      <td>2</td>\n",
       "      <td>1</td>\n",
       "      <td>2</td>\n",
       "      <td>3</td>\n",
       "      <td>1</td>\n",
       "    </tr>\n",
       "    <tr>\n",
       "      <th>diag_remembered</th>\n",
       "      <td>NaN</td>\n",
       "      <td>NaN</td>\n",
       "      <td>NaN</td>\n",
       "      <td>NaN</td>\n",
       "      <td>NaN</td>\n",
       "    </tr>\n",
       "  </tbody>\n",
       "</table>\n",
       "</div>"
      ],
      "text/plain": [
       "                              11         30         38         153        192\n",
       "x                         36.0844    552.638    23.9474    343.175    20.6357\n",
       "y                         8.16158    11.4717    12.6843    45.1955     54.784\n",
       "mass                      1.53298    1.11177   0.903479    0.67587    1.71731\n",
       "size                      2.82182     2.1479    2.79626     2.7347    3.03672\n",
       "ecc                      0.137294  0.0624272   0.109013   0.141833   0.186366\n",
       "signal                  0.0479176  0.0691714  0.0320739  0.0274367  0.0425076\n",
       "raw_mass                  43.9172     41.459    43.1537    40.9325    43.7764\n",
       "ep                      0.0469476   0.114912  0.0575133   0.166546  0.0485945\n",
       "frame                           1          1          1          1          1\n",
       "particle                        3          8         10         39         50\n",
       "diag_search_range              13         13         13         13         13\n",
       "diag_subnet                    25         24         25         22         23\n",
       "diag_subnet_iterations          3          1          3         15          1\n",
       "diag_subnet_size                2          1          2          3          1\n",
       "diag_remembered               NaN        NaN        NaN        NaN        NaN"
      ]
     },
     "execution_count": 8,
     "metadata": {},
     "output_type": "execute_result"
    }
   ],
   "source": [
    "subnet_particles = t[(t.frame == 1) & ~(t.diag_subnet.isnull())]\n",
    "\n",
    "print(len(subnet_particles), 'particles involved in subnets between frames 0 and 1.')\n",
    "subnet_particles.head().T"
   ]
  },
  {
   "cell_type": "markdown",
   "metadata": {},
   "source": [
    "The subnet columns are as follows:\n",
    "\n",
    "**`diag_subnet`** sequentially numbers each subnet as it is encountered. This allows you to count subnets, and identify particles that are in the same subnet. Note that the numbering is sequential over the *entire movie*. Therefore, to count the subnets in a particular frame, use"
   ]
  },
  {
   "cell_type": "code",
   "execution_count": 9,
   "metadata": {},
   "outputs": [
    {
     "data": {
      "text/plain": [
       "32"
      ]
     },
     "execution_count": 9,
     "metadata": {},
     "output_type": "execute_result"
    }
   ],
   "source": [
    "len(subnet_particles.diag_subnet.unique())"
   ]
  },
  {
   "cell_type": "markdown",
   "metadata": {},
   "source": [
    "We can also take this opportunity to show these subnet particles. This would be the starting point for more in-depth spot checks of how subnets were solved."
   ]
  },
  {
   "cell_type": "code",
   "execution_count": 10,
   "metadata": {},
   "outputs": [
    {
     "data": {
      "image/png": "[encoded data removed]",
      "text/plain": [
       "<matplotlib.figure.Figure at 0x119c597b8>"
      ]
     },
     "metadata": {},
     "output_type": "display_data"
    }
   ],
   "source": [
    "tp.annotate(subnet_particles, frames[1], plot_style={'markersize': 10});"
   ]
  },
  {
   "cell_type": "markdown",
   "metadata": {},
   "source": [
    "Like `diag_subnet`, the columns `diag_subnet_size` and `diag_subnet_iterations` also pertain to the entire subnet; all members of a subnet have the same values. It would be nice to consolidate these data into a shorter table of the subnets and their properties. To do this, we can use the powerful grouping and aggregation features of Pandas:"
   ]
  },
  {
   "cell_type": "code",
   "execution_count": 11,
   "metadata": {},
   "outputs": [
    {
     "data": {
      "text/html": [
       "<div>\n",
       "<style>\n",
       "    .dataframe thead tr:only-child th {\n",
       "        text-align: right;\n",
       "    }\n",
       "\n",
       "    .dataframe thead th {\n",
       "        text-align: left;\n",
       "    }\n",
       "\n",
       "    .dataframe tbody tr th {\n",
       "        vertical-align: top;\n",
       "    }\n",
       "</style>\n",
       "<table border=\"1\" class=\"dataframe\">\n",
       "  <thead>\n",
       "    <tr style=\"text-align: right;\">\n",
       "      <th></th>\n",
       "      <th>diag_subnet_size</th>\n",
       "      <th>diag_subnet_iterations</th>\n",
       "      <th>current_size</th>\n",
       "    </tr>\n",
       "    <tr>\n",
       "      <th>diag_subnet</th>\n",
       "      <th></th>\n",
       "      <th></th>\n",
       "      <th></th>\n",
       "    </tr>\n",
       "  </thead>\n",
       "  <tbody>\n",
       "    <tr>\n",
       "      <th>0</th>\n",
       "      <td>2</td>\n",
       "      <td>8</td>\n",
       "      <td>1</td>\n",
       "    </tr>\n",
       "    <tr>\n",
       "      <th>1</th>\n",
       "      <td>2</td>\n",
       "      <td>3</td>\n",
       "      <td>2</td>\n",
       "    </tr>\n",
       "    <tr>\n",
       "      <th>2</th>\n",
       "      <td>2</td>\n",
       "      <td>3</td>\n",
       "      <td>2</td>\n",
       "    </tr>\n",
       "    <tr>\n",
       "      <th>3</th>\n",
       "      <td>1</td>\n",
       "      <td>1</td>\n",
       "      <td>2</td>\n",
       "    </tr>\n",
       "    <tr>\n",
       "      <th>4</th>\n",
       "      <td>1</td>\n",
       "      <td>1</td>\n",
       "      <td>2</td>\n",
       "    </tr>\n",
       "  </tbody>\n",
       "</table>\n",
       "</div>"
      ],
      "text/plain": [
       "             diag_subnet_size  diag_subnet_iterations  current_size\n",
       "diag_subnet                                                        \n",
       "0                           2                       8             1\n",
       "1                           2                       3             2\n",
       "2                           2                       3             2\n",
       "3                           1                       1             2\n",
       "4                           1                       1             2"
      ]
     },
     "execution_count": 11,
     "metadata": {},
     "output_type": "execute_result"
    }
   ],
   "source": [
    "subnets = subnet_particles.groupby('diag_subnet')[['diag_subnet_size', 'diag_subnet_iterations']].first()\n",
    "\n",
    "# Count how many particles in the *present* frame are in each subnet,\n",
    "# and include it in the results.\n",
    "subnet_current_sizes = subnet_particles.diag_subnet.value_counts()\n",
    "subnet_current_sizes.name = 'current_size'\n",
    "subnets = subnets.join(subnet_current_sizes)\n",
    "\n",
    "subnets.head()"
   ]
  },
  {
   "cell_type": "markdown",
   "metadata": {},
   "source": [
    "Each subnet involves a set of trajectories in the past (generally the previous frame), and a set of candidate particles in the present (the frame in which the diagnostic info was recorded). **`diag_subnet_size`** gives the number of particles in the past, and in this example, we computed the `current_size` column to see the number in the present. You can see that some subnets necessitated the ending of a trajectory (e.g. 3 particles to 2), while others  required creation (e.g. 1 to 2).\n",
    "\n",
    "Finally, the **`diag_subnet_iterations`** column counts the number of possible solutions that were explored by the subnet-solving algorithm before it decided which was best. It is therefore roughly proportional to the time spent solving each subnet. These data are recorded by the numba linker only (`link_strategy='numba'`), which is used by default if `numba` is installed. Almost all of the subnets we're examining are small and were solved quickly:"
   ]
  },
  {
   "cell_type": "code",
   "execution_count": 12,
   "metadata": {},
   "outputs": [
    {
     "data": {
      "image/png": "[encoded data removed]",
      "text/plain": [
       "<matplotlib.figure.Figure at 0x118472e80>"
      ]
     },
     "metadata": {},
     "output_type": "display_data"
    }
   ],
   "source": [
    "plt.figure()\n",
    "plt.hist(subnets.diag_subnet_iterations)\n",
    "plt.xlabel('Time to solve subnet (arbitrary units)')\n",
    "plt.ylabel('Number of occurrences');"
   ]
  },
  {
   "cell_type": "markdown",
   "metadata": {},
   "source": [
    "However, a subnet of $\\sim$ 25 particles can easily take $10^9$ iterations or more to solve."
   ]
  }
 ],
 "metadata": {
  "kernelspec": {
   "display_name": "Python 3",
   "language": "python",
   "name": "python3"
  },
  "language_info": {
   "codemirror_mode": {
    "name": "ipython",
    "version": 3
   },
   "file_extension": ".py",
   "mimetype": "text/x-python",
   "name": "python",
   "nbconvert_exporter": "python",
   "pygments_lexer": "ipython3",
   "version": "3.6.3"
  }
 },
 "nbformat": 4,
 "nbformat_minor": 1
}
