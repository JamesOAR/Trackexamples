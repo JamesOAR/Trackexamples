{
 "cells": [
  {
   "cell_type": "markdown",
   "metadata": {},
   "source": [
    "# Streaming: Processing Unlimited Frames On-Disk"
   ]
  },
  {
   "cell_type": "markdown",
   "metadata": {},
   "source": [
    "A key feature of trackpy is the ability to process an unlimited number of frames.\n",
    "\n",
    "For feature-finding, this is straightforward: a frame is loaded, features are located, the locations are saved the disk, and the memory is cleared for the next frame. For linking, the problem is more challenging, but trackpy handles all this complexity for you, using as little memory as possible throughout.\n",
    "\n",
    "When data sets become large, beginning-friendly file formats like CSV or Excel become impractical. We recommend using the [HDF5 file format](https://support.hdfgroup.org/HDF5/), which is trackpy can read and write out of the box. (HDF5 is [widely used](http://en.wikipedia.org/wiki/Hierarchical_Data_Format); you can be sure it will be around for many, many years to come.)\n",
    "\n",
    "If you have some other format in mind, see the end of this tutorial, where we explain how to extend trackpy's interface to support other formats.\n",
    "\n",
    "## PyTables\n",
    "\n",
    "You need pytables, which is normally included with the Anaconda distribution. If you find that you don't have it, you can easily install it using conda. Type this command into a Terminal or Command Prompt.\n",
    "\n",
    "    conda install pytables\n",
    "    \n",
    "## Locate Features, Streaming Results into an HDF5 File"
   ]
  },
  {
   "cell_type": "code",
   "execution_count": 1,
   "metadata": {},
   "outputs": [],
   "source": [
    "import trackpy as tp\n",
    "import pims"
   ]
  },
  {
   "cell_type": "code",
   "execution_count": 2,
   "metadata": {},
   "outputs": [],
   "source": [
    "@pims.pipeline\n",
    "def gray(image):\n",
    "    return image[:, :, 0]\n",
    "\n",
    "images = gray(pims.open('../sample_data/bulk_water/*.png'))\n",
    "images = images[:10]  # We'll take just the first 10 frames for demo purposes."
   ]
  },
  {
   "cell_type": "code",
   "execution_count": 3,
   "metadata": {},
   "outputs": [],
   "source": [
    "# For this demo, we'll first remove the file if it already exists.\n",
    "!rm -f data.h5"
   ]
  },
  {
   "cell_type": "markdown",
   "metadata": {},
   "source": [
    "We can use `locate` inside a loop:"
   ]
  },
  {
   "cell_type": "code",
   "execution_count": 4,
   "metadata": {},
   "outputs": [],
   "source": [
    "with tp.PandasHDFStore('data.h5') as s:  # This opens an HDF5 file. Data will be stored and retrieved by frame number.\n",
    "    for image in images:\n",
    "        features = tp.locate(image, 11, invert=True)  # Find the features in a given frame.\n",
    "        s.put(features)  # Save the features to the file before continuing to the next frame."
   ]
  },
  {
   "cell_type": "markdown",
   "metadata": {},
   "source": [
    "or, equivalently, we can use `batch`, which accepts the storage file as `output`."
   ]
  },
  {
   "cell_type": "code",
   "execution_count": 5,
   "metadata": {},
   "outputs": [
    {
     "name": "stdout",
     "output_type": "stream",
     "text": [
      "Frame 9: 563 features\n"
     ]
    }
   ],
   "source": [
    "with tp.PandasHDFStore('data.h5') as s:\n",
    "    tp.batch(images, 11, invert=True, output=s)"
   ]
  },
  {
   "cell_type": "markdown",
   "metadata": {},
   "source": [
    "We can get the data for a given frame:"
   ]
  },
  {
   "cell_type": "code",
   "execution_count": 6,
   "metadata": {},
   "outputs": [
    {
     "data": {
      "text/html": [
       "<div>\n",
       "<style scoped>\n",
       "    .dataframe tbody tr th:only-of-type {\n",
       "        vertical-align: middle;\n",
       "    }\n",
       "\n",
       "    .dataframe tbody tr th {\n",
       "        vertical-align: top;\n",
       "    }\n",
       "\n",
       "    .dataframe thead th {\n",
       "        text-align: right;\n",
       "    }\n",
       "</style>\n",
       "<table border=\"1\" class=\"dataframe\">\n",
       "  <thead>\n",
       "    <tr style=\"text-align: right;\">\n",
       "      <th></th>\n",
       "      <th>y</th>\n",
       "      <th>x</th>\n",
       "      <th>mass</th>\n",
       "      <th>size</th>\n",
       "      <th>ecc</th>\n",
       "      <th>signal</th>\n",
       "      <th>raw_mass</th>\n",
       "      <th>ep</th>\n",
       "      <th>frame</th>\n",
       "    </tr>\n",
       "  </thead>\n",
       "  <tbody>\n",
       "    <tr>\n",
       "      <td>0</td>\n",
       "      <td>5.644760</td>\n",
       "      <td>295.595642</td>\n",
       "      <td>249.545063</td>\n",
       "      <td>2.178398</td>\n",
       "      <td>0.182386</td>\n",
       "      <td>15.450905</td>\n",
       "      <td>8915.0</td>\n",
       "      <td>0.116651</td>\n",
       "      <td>2</td>\n",
       "    </tr>\n",
       "    <tr>\n",
       "      <td>1</td>\n",
       "      <td>6.359559</td>\n",
       "      <td>68.303687</td>\n",
       "      <td>227.102408</td>\n",
       "      <td>2.428999</td>\n",
       "      <td>0.082812</td>\n",
       "      <td>10.358149</td>\n",
       "      <td>9269.0</td>\n",
       "      <td>0.072415</td>\n",
       "      <td>2</td>\n",
       "    </tr>\n",
       "    <tr>\n",
       "      <td>2</td>\n",
       "      <td>6.438481</td>\n",
       "      <td>336.577209</td>\n",
       "      <td>209.061966</td>\n",
       "      <td>2.006389</td>\n",
       "      <td>0.113846</td>\n",
       "      <td>14.415090</td>\n",
       "      <td>8815.0</td>\n",
       "      <td>0.140979</td>\n",
       "      <td>2</td>\n",
       "    </tr>\n",
       "    <tr>\n",
       "      <td>3</td>\n",
       "      <td>6.902141</td>\n",
       "      <td>432.482819</td>\n",
       "      <td>346.652706</td>\n",
       "      <td>2.863077</td>\n",
       "      <td>0.485857</td>\n",
       "      <td>13.551911</td>\n",
       "      <td>9127.0</td>\n",
       "      <td>0.085406</td>\n",
       "      <td>2</td>\n",
       "    </tr>\n",
       "    <tr>\n",
       "      <td>4</td>\n",
       "      <td>8.217391</td>\n",
       "      <td>36.224806</td>\n",
       "      <td>256.105224</td>\n",
       "      <td>2.625996</td>\n",
       "      <td>0.144332</td>\n",
       "      <td>9.667605</td>\n",
       "      <td>9530.0</td>\n",
       "      <td>0.056592</td>\n",
       "      <td>2</td>\n",
       "    </tr>\n",
       "  </tbody>\n",
       "</table>\n",
       "</div>"
      ],
      "text/plain": [
       "          y           x        mass      size       ecc     signal  raw_mass  \\\n",
       "0  5.644760  295.595642  249.545063  2.178398  0.182386  15.450905    8915.0   \n",
       "1  6.359559   68.303687  227.102408  2.428999  0.082812  10.358149    9269.0   \n",
       "2  6.438481  336.577209  209.061966  2.006389  0.113846  14.415090    8815.0   \n",
       "3  6.902141  432.482819  346.652706  2.863077  0.485857  13.551911    9127.0   \n",
       "4  8.217391   36.224806  256.105224  2.625996  0.144332   9.667605    9530.0   \n",
       "\n",
       "         ep  frame  \n",
       "0  0.116651      2  \n",
       "1  0.072415      2  \n",
       "2  0.140979      2  \n",
       "3  0.085406      2  \n",
       "4  0.056592      2  "
      ]
     },
     "execution_count": 6,
     "metadata": {},
     "output_type": "execute_result"
    }
   ],
   "source": [
    "with tp.PandasHDFStore('data.h5') as s:\n",
    "    frame_2_results = s.get(2)\n",
    "    \n",
    "frame_2_results.head()  # Display the first few rows."
   ]
  },
  {
   "cell_type": "markdown",
   "metadata": {},
   "source": [
    "Or dump all the data, if your machine has enough memory to hold it:"
   ]
  },
  {
   "cell_type": "code",
   "execution_count": 7,
   "metadata": {},
   "outputs": [
    {
     "data": {
      "text/html": [
       "<div>\n",
       "<style scoped>\n",
       "    .dataframe tbody tr th:only-of-type {\n",
       "        vertical-align: middle;\n",
       "    }\n",
       "\n",
       "    .dataframe tbody tr th {\n",
       "        vertical-align: top;\n",
       "    }\n",
       "\n",
       "    .dataframe thead th {\n",
       "        text-align: right;\n",
       "    }\n",
       "</style>\n",
       "<table border=\"1\" class=\"dataframe\">\n",
       "  <thead>\n",
       "    <tr style=\"text-align: right;\">\n",
       "      <th></th>\n",
       "      <th>y</th>\n",
       "      <th>x</th>\n",
       "      <th>mass</th>\n",
       "      <th>size</th>\n",
       "      <th>ecc</th>\n",
       "      <th>signal</th>\n",
       "      <th>raw_mass</th>\n",
       "      <th>ep</th>\n",
       "      <th>frame</th>\n",
       "    </tr>\n",
       "  </thead>\n",
       "  <tbody>\n",
       "    <tr>\n",
       "      <td>0</td>\n",
       "      <td>4.949033</td>\n",
       "      <td>103.834828</td>\n",
       "      <td>187.762850</td>\n",
       "      <td>2.263025</td>\n",
       "      <td>0.076349</td>\n",
       "      <td>9.835619</td>\n",
       "      <td>8983.0</td>\n",
       "      <td>0.106633</td>\n",
       "      <td>0</td>\n",
       "    </tr>\n",
       "    <tr>\n",
       "      <td>1</td>\n",
       "      <td>5.249298</td>\n",
       "      <td>585.934868</td>\n",
       "      <td>157.812948</td>\n",
       "      <td>2.899399</td>\n",
       "      <td>0.054051</td>\n",
       "      <td>4.164631</td>\n",
       "      <td>9001.0</td>\n",
       "      <td>0.103610</td>\n",
       "      <td>0</td>\n",
       "    </tr>\n",
       "    <tr>\n",
       "      <td>2</td>\n",
       "      <td>5.789880</td>\n",
       "      <td>294.498262</td>\n",
       "      <td>229.409164</td>\n",
       "      <td>2.109955</td>\n",
       "      <td>0.175696</td>\n",
       "      <td>15.417997</td>\n",
       "      <td>8917.0</td>\n",
       "      <td>0.119408</td>\n",
       "      <td>0</td>\n",
       "    </tr>\n",
       "    <tr>\n",
       "      <td>3</td>\n",
       "      <td>5.853706</td>\n",
       "      <td>338.236622</td>\n",
       "      <td>180.496897</td>\n",
       "      <td>2.060928</td>\n",
       "      <td>0.159577</td>\n",
       "      <td>12.139458</td>\n",
       "      <td>8783.0</td>\n",
       "      <td>0.157788</td>\n",
       "      <td>0</td>\n",
       "    </tr>\n",
       "    <tr>\n",
       "      <td>4</td>\n",
       "      <td>7.124785</td>\n",
       "      <td>310.472238</td>\n",
       "      <td>154.800236</td>\n",
       "      <td>3.269606</td>\n",
       "      <td>0.062448</td>\n",
       "      <td>3.632976</td>\n",
       "      <td>8693.0</td>\n",
       "      <td>0.201229</td>\n",
       "      <td>0</td>\n",
       "    </tr>\n",
       "  </tbody>\n",
       "</table>\n",
       "</div>"
      ],
      "text/plain": [
       "          y           x        mass      size       ecc     signal  raw_mass  \\\n",
       "0  4.949033  103.834828  187.762850  2.263025  0.076349   9.835619    8983.0   \n",
       "1  5.249298  585.934868  157.812948  2.899399  0.054051   4.164631    9001.0   \n",
       "2  5.789880  294.498262  229.409164  2.109955  0.175696  15.417997    8917.0   \n",
       "3  5.853706  338.236622  180.496897  2.060928  0.159577  12.139458    8783.0   \n",
       "4  7.124785  310.472238  154.800236  3.269606  0.062448   3.632976    8693.0   \n",
       "\n",
       "         ep  frame  \n",
       "0  0.106633      0  \n",
       "1  0.103610      0  \n",
       "2  0.119408      0  \n",
       "3  0.157788      0  \n",
       "4  0.201229      0  "
      ]
     },
     "execution_count": 7,
     "metadata": {},
     "output_type": "execute_result"
    }
   ],
   "source": [
    "with tp.PandasHDFStore('data.h5') as s:\n",
    "    all_results = s.dump()\n",
    "    \n",
    "all_results.head()  # Display the first few rows."
   ]
  },
  {
   "cell_type": "markdown",
   "metadata": {},
   "source": [
    "You can dump the first N frames using `s.dump(N)`.\n",
    "\n",
    "## Link Trajectories, Streaming From and Updating the HDF5 File"
   ]
  },
  {
   "cell_type": "code",
   "execution_count": 8,
   "metadata": {},
   "outputs": [
    {
     "name": "stdout",
     "output_type": "stream",
     "text": [
      "Frame 9: 563 trajectories present.\n"
     ]
    }
   ],
   "source": [
    "with tp.PandasHDFStore('data.h5') as s:\n",
    "    for linked in tp.link_df_iter(s, 3, neighbor_strategy='KDTree'):\n",
    "        s.put(linked)"
   ]
  },
  {
   "cell_type": "markdown",
   "metadata": {},
   "source": [
    "The original data is overwritten."
   ]
  },
  {
   "cell_type": "code",
   "execution_count": 9,
   "metadata": {},
   "outputs": [
    {
     "data": {
      "text/html": [
       "<div>\n",
       "<style scoped>\n",
       "    .dataframe tbody tr th:only-of-type {\n",
       "        vertical-align: middle;\n",
       "    }\n",
       "\n",
       "    .dataframe tbody tr th {\n",
       "        vertical-align: top;\n",
       "    }\n",
       "\n",
       "    .dataframe thead th {\n",
       "        text-align: right;\n",
       "    }\n",
       "</style>\n",
       "<table border=\"1\" class=\"dataframe\">\n",
       "  <thead>\n",
       "    <tr style=\"text-align: right;\">\n",
       "      <th></th>\n",
       "      <th>y</th>\n",
       "      <th>x</th>\n",
       "      <th>mass</th>\n",
       "      <th>size</th>\n",
       "      <th>ecc</th>\n",
       "      <th>signal</th>\n",
       "      <th>raw_mass</th>\n",
       "      <th>ep</th>\n",
       "      <th>frame</th>\n",
       "      <th>particle</th>\n",
       "    </tr>\n",
       "  </thead>\n",
       "  <tbody>\n",
       "    <tr>\n",
       "      <td>0</td>\n",
       "      <td>5.644760</td>\n",
       "      <td>295.595642</td>\n",
       "      <td>249.545063</td>\n",
       "      <td>2.178398</td>\n",
       "      <td>0.182386</td>\n",
       "      <td>15.450905</td>\n",
       "      <td>8915.0</td>\n",
       "      <td>0.116651</td>\n",
       "      <td>2</td>\n",
       "      <td>2</td>\n",
       "    </tr>\n",
       "    <tr>\n",
       "      <td>1</td>\n",
       "      <td>6.359559</td>\n",
       "      <td>68.303687</td>\n",
       "      <td>227.102408</td>\n",
       "      <td>2.428999</td>\n",
       "      <td>0.082812</td>\n",
       "      <td>10.358149</td>\n",
       "      <td>9269.0</td>\n",
       "      <td>0.072415</td>\n",
       "      <td>2</td>\n",
       "      <td>7</td>\n",
       "    </tr>\n",
       "    <tr>\n",
       "      <td>2</td>\n",
       "      <td>6.438481</td>\n",
       "      <td>336.577209</td>\n",
       "      <td>209.061966</td>\n",
       "      <td>2.006389</td>\n",
       "      <td>0.113846</td>\n",
       "      <td>14.415090</td>\n",
       "      <td>8815.0</td>\n",
       "      <td>0.140979</td>\n",
       "      <td>2</td>\n",
       "      <td>3</td>\n",
       "    </tr>\n",
       "    <tr>\n",
       "      <td>3</td>\n",
       "      <td>6.902141</td>\n",
       "      <td>432.482819</td>\n",
       "      <td>346.652706</td>\n",
       "      <td>2.863077</td>\n",
       "      <td>0.485857</td>\n",
       "      <td>13.551911</td>\n",
       "      <td>9127.0</td>\n",
       "      <td>0.085406</td>\n",
       "      <td>2</td>\n",
       "      <td>5</td>\n",
       "    </tr>\n",
       "    <tr>\n",
       "      <td>4</td>\n",
       "      <td>8.217391</td>\n",
       "      <td>36.224806</td>\n",
       "      <td>256.105224</td>\n",
       "      <td>2.625996</td>\n",
       "      <td>0.144332</td>\n",
       "      <td>9.667605</td>\n",
       "      <td>9530.0</td>\n",
       "      <td>0.056592</td>\n",
       "      <td>2</td>\n",
       "      <td>6</td>\n",
       "    </tr>\n",
       "  </tbody>\n",
       "</table>\n",
       "</div>"
      ],
      "text/plain": [
       "          y           x        mass      size       ecc     signal  raw_mass  \\\n",
       "0  5.644760  295.595642  249.545063  2.178398  0.182386  15.450905    8915.0   \n",
       "1  6.359559   68.303687  227.102408  2.428999  0.082812  10.358149    9269.0   \n",
       "2  6.438481  336.577209  209.061966  2.006389  0.113846  14.415090    8815.0   \n",
       "3  6.902141  432.482819  346.652706  2.863077  0.485857  13.551911    9127.0   \n",
       "4  8.217391   36.224806  256.105224  2.625996  0.144332   9.667605    9530.0   \n",
       "\n",
       "         ep  frame  particle  \n",
       "0  0.116651      2         2  \n",
       "1  0.072415      2         7  \n",
       "2  0.140979      2         3  \n",
       "3  0.085406      2         5  \n",
       "4  0.056592      2         6  "
      ]
     },
     "execution_count": 9,
     "metadata": {},
     "output_type": "execute_result"
    }
   ],
   "source": [
    "with tp.PandasHDFStore('data.h5') as s:\n",
    "    frame_2_results = s.get(2)\n",
    "    \n",
    "frame_2_results.head()  # Display the first few rows."
   ]
  },
  {
   "cell_type": "markdown",
   "metadata": {},
   "source": [
    "## Framewise Data Interfaces\n",
    "\n",
    "### Built-in interfaces\n",
    "\n",
    "There are three different interfaces. You can use them interchangeably. They offer different performance advantages.\n",
    "\n",
    "* [`PandasHDFStore`](https://github.com/soft-matter/trackpy/blob/c309b83296c720b8b9fd9633259c2b9ea6740eeb/trackpy/framewise_data.py#L103-L161) -- fastest for a small (~100) number of frames\n",
    "* [`PandasHDFStoreBig`](https://github.com/soft-matter/trackpy/blob/c309b83296c720b8b9fd9633259c2b9ea6740eeb/trackpy/framewise_data.py#L164-L227) -- fastest for a medium or large number of frames\n",
    "* [`PandasHDFStoreSingleNode`](https://github.com/soft-matter/trackpy/blob/c309b83296c720b8b9fd9633259c2b9ea6740eeb/trackpy/framewise_data.py#L230-L320) -- optimizes HDF queries that access multiple frames (advanced)\n",
    "\n",
    "### Writing your own interface\n",
    "\n",
    "Trackpy implements a generic interface that could be used to store and retrieve particle tracking data in any file format. We hope that it can make it easier for researchers who use different file formats to exchange data. Any in-house format could be accessed using the same simple interface demonstrated above.\n",
    "\n",
    "At present, the interface is implemented only for HDF5 files. To extend it to any format, write a class subclassing [`trackpy.FramewiseData`](https://github.com/soft-matter/trackpy/blob/c309b83296c720b8b9fd9633259c2b9ea6740eeb/trackpy/framewise_data.py#L14-L86). This custom class must implement the methods `put`, `get`, `close`, and `__iter__` and the properties `max_frame` and `t_column`. Refer to the built-in classes in [framewise_data.py](https://github.com/soft-matter/trackpy/blob/master/trackpy/framewise_data.py) for examples to work from."
   ]
  }
 ],
 "metadata": {
  "kernelspec": {
   "display_name": "trackpy-examples",
   "language": "python",
   "name": "trackpy-examples"
  },
  "language_info": {
   "codemirror_mode": {
    "name": "ipython",
    "version": 3
   },
   "file_extension": ".py",
   "mimetype": "text/x-python",
   "name": "python",
   "nbconvert_exporter": "python",
   "pygments_lexer": "ipython3",
   "version": "3.7.4"
  }
 },
 "nbformat": 4,
 "nbformat_minor": 4
}
